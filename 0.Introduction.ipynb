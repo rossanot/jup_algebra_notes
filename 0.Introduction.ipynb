{
 "cells": [
  {
   "cell_type": "code",
   "execution_count": 1,
   "id": "a9dd7466",
   "metadata": {},
   "outputs": [],
   "source": [
    "from libs_funcs import *"
   ]
  },
  {
   "cell_type": "markdown",
   "id": "08c3e415",
   "metadata": {},
   "source": [
    "# Linear Equation"
   ]
  },
  {
   "cell_type": "markdown",
   "id": "612323ce",
   "metadata": {},
   "source": [
    "## 1. Graphical Depiction of a Linear Equation\n",
    "The equation $y = mx + b$ is known as the slope-intercept form of a linear equation. The graph of a linear equation is a line. In the slope-intercept equation just introduced before, $x$ and $y$ are the independent and dependent variables, respectively; whereas $m$ is the slope of the line and $b$ is the intercept at which the line crosses the y-axis."
   ]
  },
  {
   "cell_type": "markdown",
   "id": "b34b2acd",
   "metadata": {},
   "source": [
    "### 1.1 Graph of a line given two points $p_{1}$ and $p_{2}$\n",
    "Consider a point $p_{1}$ corresponding to the coordinates $(x=0,y=0)$ or $p_{1}=(0,0)$, and a point $p_{2}$ corresponding to the coordinates $(x=5,y=5)$ or $p_{2}=(5,5)$. The graph of the line between $p_{1}$ and $p_{2}$ is shown below. "
   ]
  },
  {
   "cell_type": "code",
   "execution_count": 2,
   "id": "a610d85d",
   "metadata": {},
   "outputs": [
    {
     "data": {
      "image/png": "[encoded data removed]",
      "text/plain": [
       "<Figure size 432x288 with 1 Axes>"
      ]
     },
     "metadata": {
      "needs_background": "light"
     },
     "output_type": "display_data"
    }
   ],
   "source": [
    "#\n",
    "# Non-interactive.\n",
    "#\n",
    "\n",
    "x = [0,5]\n",
    "y = [0,5]\n",
    "\n",
    "plt_lin_rec(-1, max(x)+1, -1, max(y)+1, x, y)"
   ]
  },
  {
   "cell_type": "markdown",
   "id": "bb022ed0",
   "metadata": {},
   "source": [
    "### 1.2 Calculate $y$ from $x, m$, and  $b$\n",
    "In the box below, try to input different values for $x$, $b$, and $m$."
   ]
  },
  {
   "cell_type": "code",
   "execution_count": 3,
   "id": "742e7d96",
   "metadata": {},
   "outputs": [],
   "source": [
    "#\n",
    "# Interactive.\n",
    "#\n",
    "\n",
    "x = 7\n",
    "b = 10\n",
    "m = 1"
   ]
  },
  {
   "cell_type": "code",
   "execution_count": 4,
   "id": "e4af7971",
   "metadata": {},
   "outputs": [],
   "source": [
    "y = m*x + b"
   ]
  },
  {
   "cell_type": "code",
   "execution_count": 5,
   "id": "ee1eaaa9",
   "metadata": {},
   "outputs": [
    {
     "name": "stdout",
     "output_type": "stream",
     "text": [
      "\n",
      "Value(s) corresponding to y:\n",
      "y =  17\n"
     ]
    }
   ],
   "source": [
    "print_lin_rec('y', y)"
   ]
  },
  {
   "cell_type": "markdown",
   "id": "80bdfc87",
   "metadata": {},
   "source": [
    "### 1.3 The slope ($m$) and intercept ($b$) as key features of a line\n",
    "For the linear equation $y = 4x + 2$, what are the values of its slope and intercept? Try to picture how the corresponding graph would look like.\n",
    "\n",
    "In the box below, input inside the square brackets $[]$ possible values for $x$. The numbers must be written in ascending order, they also must be real numbers although they may be either negative or positive.\n",
    "\n",
    "Example:\n",
    "\n",
    "$x = [0, 20, 35]$\n",
    "\n",
    "or\n",
    "\n",
    "$x = [-5, 10, 50]$"
   ]
  },
  {
   "cell_type": "code",
   "execution_count": 6,
   "id": "68fad775",
   "metadata": {},
   "outputs": [],
   "source": [
    "#\n",
    "# Interactive.\n",
    "#\n",
    "\n",
    "x = [-5, 4, 20]"
   ]
  },
  {
   "cell_type": "code",
   "execution_count": 7,
   "id": "5996f27c",
   "metadata": {},
   "outputs": [
    {
     "name": "stdout",
     "output_type": "stream",
     "text": [
      "\n",
      "Value(s) corresponding to y:\n",
      "y =  [-18, 18, 82]\n"
     ]
    }
   ],
   "source": [
    "#\n",
    "# Non-interactive.\n",
    "#\n",
    "\n",
    "y = lin_rec(4, 2, *x)\n",
    "\n",
    "print_lin_rec('y', y)"
   ]
  },
  {
   "cell_type": "markdown",
   "id": "7acd45a6",
   "metadata": {},
   "source": [
    "The graph for $y = 4x + 2$ using the values of $x$ and $y$ given above is shown below."
   ]
  },
  {
   "cell_type": "code",
   "execution_count": 8,
   "id": "d6381a72",
   "metadata": {
    "scrolled": true
   },
   "outputs": [
    {
     "data": {
      "image/png": "[encoded data removed]",
      "text/plain": [
       "<Figure size 432x288 with 1 Axes>"
      ]
     },
     "metadata": {
      "needs_background": "light"
     },
     "output_type": "display_data"
    }
   ],
   "source": [
    "plt_lin_rec(min(x)-2, max(x)+5, min(y)-5, max(y)+5, x, y, m=4, b=2)"
   ]
  },
  {
   "cell_type": "markdown",
   "id": "42c6e1ed",
   "metadata": {},
   "source": [
    "Go back and try to input a different set of values for $x$. Take a moment to analyze the resulting graph and how its shape depends on $x$."
   ]
  },
  {
   "cell_type": "markdown",
   "id": "5e2488e7",
   "metadata": {},
   "source": [
    "### 1.4 The slope of a line ($m$)\n",
    "For the line $y = mx + 0$, how does the graph of this line would look like if $m = 1$ or $m = 5$? Find it out below by modifying the value of $m$ and obtaining the corresponding graph."
   ]
  },
  {
   "cell_type": "code",
   "execution_count": 9,
   "id": "b291eda8",
   "metadata": {},
   "outputs": [],
   "source": [
    "#\n",
    "# Interactive.\n",
    "#\n",
    "\n",
    "m = 5"
   ]
  },
  {
   "cell_type": "code",
   "execution_count": 10,
   "id": "67482dbc",
   "metadata": {},
   "outputs": [
    {
     "name": "stdout",
     "output_type": "stream",
     "text": [
      "\n",
      "Value(s) corresponding to y:\n",
      "y =  [0, 5, 10, 15, 20, 25, 30, 35, 40, 45, 50]\n"
     ]
    }
   ],
   "source": [
    "#\n",
    "# Non-interactive.\n",
    "#\n",
    "\n",
    "x = list(range(11))\n",
    "y = lin_rec(m, 0, *x)\n",
    "\n",
    "print_lin_rec('y', y)"
   ]
  },
  {
   "cell_type": "code",
   "execution_count": 11,
   "id": "aec886f2",
   "metadata": {},
   "outputs": [
    {
     "data": {
      "image/png": "[encoded data removed]",
      "text/plain": [
       "<Figure size 432x288 with 1 Axes>"
      ]
     },
     "metadata": {
      "needs_background": "light"
     },
     "output_type": "display_data"
    }
   ],
   "source": [
    "plt_lin_rec(min(x), max(y)+5, min(x), max(y)+5, x, y, m=m)"
   ]
  },
  {
   "cell_type": "markdown",
   "id": "4bbc0d2c",
   "metadata": {},
   "source": [
    "### 1.5 Intercept of a line ($b$)\n",
    "For the line $y = 1x + 0$, how does the graph of this line look like if $b = 0$ or $b= 5$? Find it out below by modifying the value of $b$ and obtaining the corresponding graph."
   ]
  },
  {
   "cell_type": "code",
   "execution_count": 12,
   "id": "e4a6b1af",
   "metadata": {},
   "outputs": [],
   "source": [
    "#\n",
    "# Interactive.\n",
    "#\n",
    "\n",
    "b = 5"
   ]
  },
  {
   "cell_type": "code",
   "execution_count": 13,
   "id": "df890f5e",
   "metadata": {},
   "outputs": [
    {
     "name": "stdout",
     "output_type": "stream",
     "text": [
      "\n",
      "Value(s) corresponding to y:\n",
      "y =  [5, 6, 7, 8, 9, 10, 11, 12, 13, 14, 15]\n"
     ]
    }
   ],
   "source": [
    "#\n",
    "# Non-interactive.\n",
    "#\n",
    "\n",
    "x = list(range(11))\n",
    "y = lin_rec(1, b, *x)\n",
    "\n",
    "print_lin_rec('y', y)"
   ]
  },
  {
   "cell_type": "code",
   "execution_count": 14,
   "id": "ad3bd053",
   "metadata": {},
   "outputs": [
    {
     "data": {
      "image/png": "[encoded data removed]",
      "text/plain": [
       "<Figure size 432x288 with 1 Axes>"
      ]
     },
     "metadata": {
      "needs_background": "light"
     },
     "output_type": "display_data"
    }
   ],
   "source": [
    "plt_lin_rec(min(x)-1, max(x)+1, 0, max(y)+1, x, y, b=b)"
   ]
  }
 ],
 "metadata": {
  "kernelspec": {
   "display_name": "Python 3 (ipykernel)",
   "language": "python",
   "name": "python3"
  },
  "language_info": {
   "codemirror_mode": {
    "name": "ipython",
    "version": 3
   },
   "file_extension": ".py",
   "mimetype": "text/x-python",
   "name": "python",
   "nbconvert_exporter": "python",
   "pygments_lexer": "ipython3",
   "version": "3.8.3"
  }
 },
 "nbformat": 4,
 "nbformat_minor": 5
}
